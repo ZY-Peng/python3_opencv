{
 "cells": [
  {
   "cell_type": "code",
   "execution_count": 1,
   "metadata": {},
   "outputs": [
    {
     "name": "stdout",
     "output_type": "stream",
     "text": [
      "[0.         0.5        0.70710678 0.8660254  1.        ]\n",
      "[1.00000000e+00 8.66025404e-01 7.07106781e-01 5.00000000e-01\n",
      " 6.12323400e-17]\n",
      "[0.00000000e+00 5.77350269e-01 1.00000000e+00 1.73205081e+00\n",
      " 1.63312394e+16]\n"
     ]
    }
   ],
   "source": [
    "#NumPy 拥有标准的三角函数\n",
    "import numpy as np\n",
    "a = np.array([0,30,45,60,90])\n",
    "print(np.sin(a*np.pi/180))\n",
    "print(np.cos(a*np.pi/180))\n",
    "print(np.tan(a*np.pi/180))\n",
    "\n",
    "#arcsin，arccos，和arctan函数返回给定角度的sin，cos和tan的反三角函数"
   ]
  },
  {
   "cell_type": "code",
   "execution_count": 2,
   "metadata": {},
   "outputs": [
    {
     "name": "stdout",
     "output_type": "stream",
     "text": [
      "[  1.   6. 123.   1.  26.]\n",
      "[  1.    5.6 123.    0.6  25.5]\n",
      "[  0.  10. 120.   0.  30.]\n"
     ]
    }
   ],
   "source": [
    "# numpy.around(a,decimals) 这个函数返回四舍五入到所需精度的值\n",
    "#decimals 要舍入的小数位数。 默认值为0。 如果为负，整数将四舍五入到小数点左侧的位置\n",
    "a = np.array([1.0,5.55,  123,  0.567,  25.532]) \n",
    "print(np.around(a))\n",
    "print(np.around(a,decimals=1))\n",
    "print(np.around(a,decimals=-1))"
   ]
  },
  {
   "cell_type": "code",
   "execution_count": 3,
   "metadata": {},
   "outputs": [
    {
     "name": "stdout",
     "output_type": "stream",
     "text": [
      "[-2.  1. -1.  0. 10.]\n"
     ]
    }
   ],
   "source": [
    "#此函数返回不大于输入参数的最大整数。\n",
    "a = np.array([-1.7,  1.5,  -0.2,  0.6,  10])  \n",
    "print(np.floor(a))"
   ]
  },
  {
   "cell_type": "code",
   "execution_count": 4,
   "metadata": {},
   "outputs": [
    {
     "name": "stdout",
     "output_type": "stream",
     "text": [
      "[-1.  2. -0.  1. 10.]\n"
     ]
    }
   ],
   "source": [
    "#ceil()函数返回输入值的上限，即，标量x的上限是最小的整数i\n",
    "print(np.ceil(a))"
   ]
  },
  {
   "cell_type": "code",
   "execution_count": 9,
   "metadata": {},
   "outputs": [
    {
     "name": "stdout",
     "output_type": "stream",
     "text": [
      "[[0 1 2]\n",
      " [3 4 5]\n",
      " [6 7 8]] [0 1 2]\n",
      "[[ 0  2  4]\n",
      " [ 3  5  7]\n",
      " [ 6  8 10]]\n",
      "[[0 0 0]\n",
      " [3 3 3]\n",
      " [6 6 6]]\n",
      "[[ 0  1  4]\n",
      " [ 0  4 10]\n",
      " [ 0  7 16]]\n"
     ]
    }
   ],
   "source": [
    "#执行算术运算(如add()，subtract()，multiply()和divide())的输入数组必须具有相同的形状或符合数组广播规则\n",
    "a=np.arange(9).reshape(3,3)\n",
    "b=np.arange(3)\n",
    "print(a,b)\n",
    "print(np.add(a,b))\n",
    "print(np.subtract(a,b))\n",
    "print(np.multiply(a,b))"
   ]
  },
  {
   "cell_type": "code",
   "execution_count": 10,
   "metadata": {},
   "outputs": [
    {
     "name": "stdout",
     "output_type": "stream",
     "text": [
      "[0.66666667 0.2        0.4       ]\n"
     ]
    }
   ],
   "source": [
    "#此函数返回参数逐元素的倒数\n",
    "a=np.array([1.5,5,2.5])\n",
    "print(np.reciprocal(a))"
   ]
  },
  {
   "cell_type": "code",
   "execution_count": 12,
   "metadata": {},
   "outputs": [
    {
     "name": "stdout",
     "output_type": "stream",
     "text": [
      "[    100   10000 1000000]\n",
      "[        10      10000 1000000000]\n"
     ]
    }
   ],
   "source": [
    "#此函数将第一个输入数组中的元素作为底数，计算它与第二个输入数组中相应元素的幂。\n",
    "a = np.array([10,100,1000])  \n",
    "print(np.power(a,2))\n",
    "b=[1,2,3]\n",
    "print(np.power(a,b))"
   ]
  },
  {
   "cell_type": "code",
   "execution_count": 13,
   "metadata": {},
   "outputs": [
    {
     "name": "stdout",
     "output_type": "stream",
     "text": [
      "[0 0 1]\n"
     ]
    }
   ],
   "source": [
    "#此函数返回输入数组中相应元素的除法余数。 函数numpy.remainder()也产生相同的结果。\n",
    "print(np.mod(a,b))"
   ]
  },
  {
   "cell_type": "code",
   "execution_count": null,
   "metadata": {},
   "outputs": [],
   "source": []
  }
 ],
 "metadata": {
  "kernelspec": {
   "display_name": "Python 3",
   "language": "python",
   "name": "python3"
  },
  "language_info": {
   "codemirror_mode": {
    "name": "ipython",
    "version": 3
   },
   "file_extension": ".py",
   "mimetype": "text/x-python",
   "name": "python",
   "nbconvert_exporter": "python",
   "pygments_lexer": "ipython3",
   "version": "3.6.4"
  }
 },
 "nbformat": 4,
 "nbformat_minor": 2
}
