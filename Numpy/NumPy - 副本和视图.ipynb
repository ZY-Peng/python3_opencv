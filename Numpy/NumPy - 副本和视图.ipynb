{
 "cells": [
  {
   "cell_type": "code",
   "execution_count": null,
   "metadata": {},
   "outputs": [],
   "source": [
    "#在执行函数时，其中一些返回输入数组的副本，而另一些返回视图。 当内容物理存储在另一个位置时，称为副本。\n",
    "#另一方面，如果提供了相同内存内容的不同视图，我们将其称为视图。"
   ]
  },
  {
   "cell_type": "code",
   "execution_count": 2,
   "metadata": {},
   "outputs": [
    {
     "name": "stdout",
     "output_type": "stream",
     "text": [
      "我们的数组是：\n",
      "[0 1 2 3 4 5]\n",
      "调用 id() 函数：\n",
      "140113444532512\n",
      "a 赋值给 b：\n",
      "[0 1 2 3 4 5]\n",
      "b 拥有相同 id()：\n",
      "140113444532512\n",
      "修改 b 的形状：\n",
      "[[0 1]\n",
      " [2 3]\n",
      " [4 5]]\n",
      "a 的形状也修改了：\n",
      "[[0 1]\n",
      " [2 3]\n",
      " [4 5]]\n"
     ]
    }
   ],
   "source": [
    "#简单的赋值不会创建数组对象的副本。 相反，它使用原始数组的相同id()来访问它。 id()返回 Python 对象的通用标识符，类似于 C 中的指针。\n",
    "# id()\n",
    "import numpy as np\n",
    "a=np.arange(6)\n",
    "print('我们的数组是：')\n",
    "print(a)\n",
    "print('调用 id() 函数：')\n",
    "print(id(a))\n",
    "print( 'a 赋值给 b：' )\n",
    "b = a \n",
    "print(b)\n",
    "print('b 拥有相同 id()：')\n",
    "print(id(b))\n",
    "print('修改 b 的形状：' )\n",
    "b.shape=3,2\n",
    "print(b)\n",
    "print  ('a 的形状也修改了：' )\n",
    "print(a)"
   ]
  },
  {
   "cell_type": "code",
   "execution_count": 5,
   "metadata": {},
   "outputs": [
    {
     "name": "stdout",
     "output_type": "stream",
     "text": [
      "数组 a：\n",
      "[[0 1]\n",
      " [2 3]\n",
      " [4 5]]\n",
      "创建 a 的视图：\n",
      "[[0 1]\n",
      " [2 3]\n",
      " [4 5]]\n",
      "False\n",
      "两个数组的 id() 不同：\n",
      "a 的 id()：\n",
      "140113444533632\n",
      "b 的 id()：\n",
      "140113444533552\n",
      "b 的形状：\n",
      "[[0 1 2]\n",
      " [3 4 5]]\n",
      "a 的形状：\n",
      "[[0 1]\n",
      " [2 3]\n",
      " [4 5]]\n"
     ]
    }
   ],
   "source": [
    "#视图或浅复制\n",
    "#NumPy 拥有ndarray.view()方法，它是一个新的数组对象，并可查看原始数组的相同数据。\n",
    "import numpy as np\n",
    "a=np.arange(6).reshape(3,2)\n",
    "print( '数组 a：' )\n",
    "print( a) \n",
    "print ( '创建 a 的视图：' )\n",
    "b=a.view()\n",
    "print(b)\n",
    "print (b is a )\n",
    "print  ('两个数组的 id() 不同：' ) \n",
    "print('a 的 id()：' )\n",
    "print (id(a) ) \n",
    "print  ('b 的 id()：' ) \n",
    "print( id(b))  \n",
    "# 修改 b 的形状，并不会修改 a\n",
    "b.shape =  2,3  \n",
    "print ( 'b 的形状：' ) \n",
    "print (b )\n",
    "print  ('a 的形状：')  \n",
    "print (a)\n",
    "\n"
   ]
  },
  {
   "cell_type": "code",
   "execution_count": 4,
   "metadata": {},
   "outputs": [
    {
     "name": "stdout",
     "output_type": "stream",
     "text": [
      "数组 a：\n",
      "[[10 10]\n",
      " [ 2  3]\n",
      " [ 4  5]]\n",
      "创建 a 的深层副本：\n",
      "数组 b：\n",
      "[[10 10]\n",
      " [ 2  3]\n",
      " [ 4  5]]\n",
      "我们能够写入 b 来写入 a 吗？\n",
      "False\n",
      "修改 b 的内容：\n",
      "修改后的数组 b：\n",
      "[[100  10]\n",
      " [  2   3]\n",
      " [  4   5]]\n",
      "a 保持不变：\n",
      "[[10 10]\n",
      " [ 2  3]\n",
      " [ 4  5]]\n"
     ]
    }
   ],
   "source": [
    "#深复制\n",
    "#ndarray.copy()函数创建一个深层副本。 它是数组及其数据的完整副本，不与原始数组共享。\n",
    "import numpy as np \n",
    "a = np.array([[10,10],  [2,3],  [4,5]])  \n",
    "print  ('数组 a：')  \n",
    "print (a) \n",
    "print  ('创建 a 的深层副本：' )\n",
    "b = a.copy()  \n",
    "print  ('数组 b：'  )\n",
    "print (b )\n",
    "# b 与 a 不共享任何内容  \n",
    "print  ('我们能够写入 b 来写入 a 吗？'  )\n",
    "print (b is a )\n",
    "print  ('修改 b 的内容：' )\n",
    "b[0,0]  =  100  \n",
    "print  ('修改后的数组 b：' ) \n",
    "print (b) \n",
    "print  ('a 保持不变：'  )\n",
    "print( a)"
   ]
  },
  {
   "cell_type": "code",
   "execution_count": null,
   "metadata": {},
   "outputs": [],
   "source": []
  },
  {
   "cell_type": "code",
   "execution_count": null,
   "metadata": {},
   "outputs": [],
   "source": []
  }
 ],
 "metadata": {
  "kernelspec": {
   "display_name": "Python 3",
   "language": "python",
   "name": "python3"
  },
  "language_info": {
   "codemirror_mode": {
    "name": "ipython",
    "version": 3
   },
   "file_extension": ".py",
   "mimetype": "text/x-python",
   "name": "python",
   "nbconvert_exporter": "python",
   "pygments_lexer": "ipython3",
   "version": "3.6.4"
  }
 },
 "nbformat": 4,
 "nbformat_minor": 2
}
