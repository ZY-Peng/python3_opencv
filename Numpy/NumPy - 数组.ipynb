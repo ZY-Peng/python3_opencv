{
 "cells": [
  {
   "cell_type": "code",
   "execution_count": 5,
   "metadata": {},
   "outputs": [
    {
     "name": "stdout",
     "output_type": "stream",
     "text": [
      "原始数组是：\n",
      "[[ 0  5 10 15]\n",
      " [20 25 30 35]\n",
      " [40 45 50 55]]\n",
      "修改后的数组是：\n",
      "0\n",
      "20\n",
      "40\n",
      "5\n",
      "25\n",
      "45\n",
      "10\n",
      "30\n",
      "50\n",
      "15\n",
      "35\n",
      "55\n"
     ]
    }
   ],
   "source": [
    "#NumPy 包包含一个迭代器对象numpy.nditer\n",
    "\n",
    "import numpy as np\n",
    "a = np.arange(0,60,5) \n",
    "a = a.reshape(3,4)  \n",
    "print  ('原始数组是：' ) \n",
    "print (a) \n",
    "a=a.T\n",
    "print  ('修改后的数组是：' ) \n",
    "for x in np.nditer(a,order='C'):  #C cols  F rows\n",
    "    print(x)"
   ]
  },
  {
   "cell_type": "code",
   "execution_count": 8,
   "metadata": {},
   "outputs": [
    {
     "name": "stdout",
     "output_type": "stream",
     "text": [
      "[[0 1 2 3]\n",
      " [4 5 6 7]]\n",
      "5\n"
     ]
    }
   ],
   "source": [
    "#numpy.ndarray.flat\n",
    "#该函数返回数组上的一维迭代器，行为类似 Python 内建的迭代器\n",
    "import numpy as np\n",
    "a = np.arange(8).reshape(2,4)\n",
    "print(a)\n",
    "print(a.flat[5])"
   ]
  },
  {
   "cell_type": "code",
   "execution_count": 7,
   "metadata": {},
   "outputs": [
    {
     "name": "stdout",
     "output_type": "stream",
     "text": [
      "[0 4 1 5 2 6 3 7]\n"
     ]
    }
   ],
   "source": [
    "#numpy.ndarray.flatten\n",
    "#该函数返回折叠为一维的数组副本，函数接受下列参数\n",
    "#order：'C' — 按行，'F' — 按列，'A' — 原顺序，'k' — 元素在内存中的出现顺序。\n",
    "print(a.flatten(order='F'))"
   ]
  },
  {
   "cell_type": "code",
   "execution_count": 9,
   "metadata": {},
   "outputs": [
    {
     "name": "stdout",
     "output_type": "stream",
     "text": [
      "[[0 4]\n",
      " [1 5]\n",
      " [2 6]\n",
      " [3 7]]\n"
     ]
    }
   ],
   "source": [
    "#numpy.transpose(arr, axes)  \n",
    "#arr：要转置的数组\n",
    "# axes：整数的列表，对应维度，通常所有维度都会翻转。\n",
    "print(np.transpose(a))"
   ]
  },
  {
   "cell_type": "code",
   "execution_count": 15,
   "metadata": {},
   "outputs": [
    {
     "name": "stdout",
     "output_type": "stream",
     "text": [
      "[[[0 1]\n",
      "  [2 3]]\n",
      "\n",
      " [[4 5]\n",
      "  [6 7]]]\n",
      "\n",
      "\n",
      "[[[0 2]\n",
      "  [4 6]]\n",
      "\n",
      " [[1 3]\n",
      "  [5 7]]]\n",
      "[[[0 2]\n",
      "  [1 3]]\n",
      "\n",
      " [[4 6]\n",
      "  [5 7]]]\n"
     ]
    }
   ],
   "source": [
    "#numpy.rollaxis(arr, axis, start)\n",
    "#arr：输入数组 axis：要向后滚动的轴，其它轴的相对位置不会改变\n",
    "# start：默认为零，表示完整的滚动。会滚动到特定位置。\n",
    "\n",
    "# 创建了三维的 ndarray\n",
    "import numpy as np\n",
    "a = np.arange(8).reshape(2,2,2)\n",
    "\n",
    "print (a)\n",
    "print('\\n')\n",
    "# 将轴 2 滚动到轴 0(宽度到深度)\n",
    "\n",
    "print (np.rollaxis(a,2) ) \n",
    "# 将轴 0 滚动到轴 1：(宽度到高度)'\n",
    "\n",
    "print (np.rollaxis(a,2,1))"
   ]
  },
  {
   "cell_type": "code",
   "execution_count": null,
   "metadata": {},
   "outputs": [],
   "source": []
  }
 ],
 "metadata": {
  "kernelspec": {
   "display_name": "Python 3",
   "language": "python",
   "name": "python3"
  },
  "language_info": {
   "codemirror_mode": {
    "name": "ipython",
    "version": 3
   },
   "file_extension": ".py",
   "mimetype": "text/x-python",
   "name": "python",
   "nbconvert_exporter": "python",
   "pygments_lexer": "ipython3",
   "version": "3.6.4"
  }
 },
 "nbformat": 4,
 "nbformat_minor": 2
}
