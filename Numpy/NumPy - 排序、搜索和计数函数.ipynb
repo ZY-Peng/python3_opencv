{
 "cells": [
  {
   "cell_type": "code",
   "execution_count": 8,
   "metadata": {},
   "outputs": [
    {
     "name": "stdout",
     "output_type": "stream",
     "text": [
      "[[3 1]\n",
      " [9 7]]\n",
      "[(b'ali', 14) (b'koko',  5) (b'pay', 12)]\n"
     ]
    }
   ],
   "source": [
    "#numpy.sort(a, axis, kind, order)\n",
    "#a 要排序的数组 axis 沿着它排序数组的轴，如果没有数组会被展开，沿着最后的轴排序\n",
    "# kind 默认为'quicksort'(快速排序)\n",
    "# order 如果数组包含字段，则是要排序的字段\n",
    "\n",
    "import numpy as np\n",
    "a=np.array([[3,7],[9,1]])\n",
    "print(np.sort(a,0))\n",
    "\n",
    "dt=np.dtype([('name','S10'),('age',int)])\n",
    "b=np.array([('pay',12),('ali',14),('koko',5)],dtype=dt)\n",
    "print(np.sort(b,order='name'))"
   ]
  },
  {
   "cell_type": "code",
   "execution_count": 11,
   "metadata": {},
   "outputs": [
    {
     "name": "stdout",
     "output_type": "stream",
     "text": [
      "[1 0 2]\n",
      "[1 3 5]\n",
      "1\n",
      "3\n",
      "5\n"
     ]
    }
   ],
   "source": [
    "#numpy.argsort()函数对输入数组沿给定轴执行间接排序，并使用指定排序类型返回数据的索引数组\n",
    "x=np.array([3,1,5])\n",
    "y=np.argsort(x)\n",
    "print(y)\n",
    "print(x[y])\n",
    "for i in y:\n",
    "    print(x[i])"
   ]
  },
  {
   "cell_type": "code",
   "execution_count": null,
   "metadata": {},
   "outputs": [],
   "source": [
    "#两个函数分别沿给定轴返回最大和最小元素的索引\n",
    "\n",
    "#numpy.argmax() 和 numpy.argmin()"
   ]
  },
  {
   "cell_type": "code",
   "execution_count": 12,
   "metadata": {},
   "outputs": [
    {
     "name": "stdout",
     "output_type": "stream",
     "text": [
      "(array([0, 0, 1, 1, 2, 2]), array([0, 1, 1, 2, 0, 2]))\n"
     ]
    }
   ],
   "source": [
    "#numpy.nonzero()函数返回输入数组中非零元素的索引\n",
    "a = np.array([[30,40,0],[0,20,10],[50,0,60]]) \n",
    "print(np.nonzero(a))"
   ]
  },
  {
   "cell_type": "code",
   "execution_count": 14,
   "metadata": {},
   "outputs": [
    {
     "name": "stdout",
     "output_type": "stream",
     "text": [
      "[[0. 1. 2.]\n",
      " [3. 4. 5.]\n",
      " [6. 7. 8.]]\n",
      "(array([2, 2, 2]), array([0, 1, 2]))\n",
      "[6. 7. 8.]\n",
      "[6. 7. 8.]\n"
     ]
    }
   ],
   "source": [
    "#where()函数返回输入数组中满足给定条件的元素的索引。\n",
    "x = np.arange(9.).reshape(3,  3)  \n",
    "print(x)\n",
    "y=np.where(x>5)\n",
    "print(y)\n",
    "for i in y:\n",
    "    print(x[y])"
   ]
  },
  {
   "cell_type": "code",
   "execution_count": 15,
   "metadata": {},
   "outputs": [
    {
     "name": "stdout",
     "output_type": "stream",
     "text": [
      "[[ True False  True]\n",
      " [False  True False]\n",
      " [ True False  True]]\n",
      "[0. 2. 4. 6. 8.]\n"
     ]
    }
   ],
   "source": [
    "#extract()函数返回满足任何条件的元素。\n",
    "condition=np.mod(x,2)==0\n",
    "print(condition)\n",
    "print(np.extract(condition,x))"
   ]
  },
  {
   "cell_type": "code",
   "execution_count": null,
   "metadata": {},
   "outputs": [],
   "source": []
  }
 ],
 "metadata": {
  "kernelspec": {
   "display_name": "Python 3",
   "language": "python",
   "name": "python3"
  },
  "language_info": {
   "codemirror_mode": {
    "name": "ipython",
    "version": 3
   },
   "file_extension": ".py",
   "mimetype": "text/x-python",
   "name": "python",
   "nbconvert_exporter": "python",
   "pygments_lexer": "ipython3",
   "version": "3.6.4"
  }
 },
 "nbformat": 4,
 "nbformat_minor": 2
}
