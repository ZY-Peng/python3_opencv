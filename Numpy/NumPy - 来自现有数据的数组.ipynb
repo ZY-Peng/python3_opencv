{
 "cells": [
  {
   "cell_type": "code",
   "execution_count": 3,
   "metadata": {},
   "outputs": [
    {
     "name": "stdout",
     "output_type": "stream",
     "text": [
      "[1 2 3]\n",
      "[1. 2. 3.]\n",
      "[(1, 2, 3) (4, 5)]\n",
      "[1 2 3]\n"
     ]
    }
   ],
   "source": [
    "#numpy.asarray(a, dtype = None, order = None)\n",
    "# 将tuple转换为 ndarray \n",
    "import numpy as np \n",
    "\n",
    "x =  (1,2,3)\n",
    "a = np.asarray(x)  \n",
    "print(a)\n",
    "\n",
    "# 设置了 dtype  \n",
    "import numpy as np \n",
    "\n",
    "x =  [1,2,3] \n",
    "a = np.asarray(x, dtype =  float)  \n",
    "print (a)\n",
    "\n",
    "# 来自元组列表的 ndarray\n",
    "import numpy as np \n",
    "\n",
    "x =  [(1,2,3),(4,5)] \n",
    "a = np.asarray(x)  \n",
    "print (a)\n",
    "\n",
    "# 将列表转换为 ndarray \n",
    "import numpy as np \n",
    "\n",
    "x =  [1,2,3] \n",
    "a = np.asarray(x)  \n",
    "print (a)"
   ]
  },
  {
   "cell_type": "code",
   "execution_count": 6,
   "metadata": {},
   "outputs": [
    {
     "name": "stdout",
     "output_type": "stream",
     "text": [
      "[0. 1. 2. 3. 4.]\n"
     ]
    }
   ],
   "source": [
    "#numpy.fromiter(iterable, dtype, count = -1)\n",
    "#此函数从任何可迭代对象构建一个ndarray对象，返回一个新的一维数组。\n",
    "# 从列表中获得迭代器  \n",
    "import numpy as np \n",
    "list = range(5) \n",
    "it = iter(list)  \n",
    "# 使用迭代器创建 ndarray \n",
    "x = np.fromiter(it, dtype =  float) \n",
    "print(x)"
   ]
  },
  {
   "cell_type": "code",
   "execution_count": 7,
   "metadata": {},
   "outputs": [
    {
     "name": "stdout",
     "output_type": "stream",
     "text": [
      "[10 12 14 16 18]\n"
     ]
    }
   ],
   "source": [
    "#numpy.arange(start, stop, step, dtype)\n",
    "# 设置了起始值和终止值参数  \n",
    "import numpy as np\n",
    "x = np.arange(10,20,2)  \n",
    "print(x)"
   ]
  },
  {
   "cell_type": "code",
   "execution_count": 8,
   "metadata": {},
   "outputs": [
    {
     "name": "stdout",
     "output_type": "stream",
     "text": [
      "(array([1.  , 1.25, 1.5 , 1.75, 2.  ]), 0.25)\n"
     ]
    }
   ],
   "source": [
    "#numpy.linspace(start, stop, num, endpoint, retstep, dtype)\n",
    "#endpoint 序列中是否包含stop值，默认为ture\n",
    "#retstep 如果为true，返回样例，以及连续数字之间的步长\n",
    "# 输出 retstep 值  \n",
    "import numpy as np\n",
    "\n",
    "x = np.linspace(1,2,5, retstep =  True)  \n",
    "print(x)"
   ]
  },
  {
   "cell_type": "code",
   "execution_count": null,
   "metadata": {},
   "outputs": [],
   "source": []
  }
 ],
 "metadata": {
  "kernelspec": {
   "display_name": "Python 3",
   "language": "python",
   "name": "python3"
  },
  "language_info": {
   "codemirror_mode": {
    "name": "ipython",
    "version": 3
   },
   "file_extension": ".py",
   "mimetype": "text/x-python",
   "name": "python",
   "nbconvert_exporter": "python",
   "pygments_lexer": "ipython3",
   "version": "3.6.4"
  }
 },
 "nbformat": 4,
 "nbformat_minor": 2
}
