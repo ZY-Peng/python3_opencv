{
 "cells": [
  {
   "cell_type": "code",
   "execution_count": 4,
   "metadata": {},
   "outputs": [],
   "source": [
    "# 对 ORB 描述符进行蛮力匹配 \n",
    "import cv2\n",
    "import numpy as np\n",
    "from matplotlib import pyplot as plt\n",
    "img1=cv2.imread('../images/lena.jpg',0)\n",
    "img2=cv2.imread('../images/29.jpg',0)"
   ]
  },
  {
   "cell_type": "code",
   "execution_count": 6,
   "metadata": {},
   "outputs": [],
   "source": [
    "# orb=cv2.ORB()\n",
    "# kp1,des1=orb.detectAndCompute(img1,None)\n",
    "# kp2,des2=orb.detectAndCompute(img2,None)\n",
    "# bf=cv2.BFMatcher(cv2.NORM_HAMMING,crossCheck=True)\n",
    "# matches=bf.match(des1,des2)\n",
    "# matches=sorted(matches,key=lambda x:x.distance)"
   ]
  },
  {
   "cell_type": "code",
   "execution_count": null,
   "metadata": {},
   "outputs": [],
   "source": []
  },
  {
   "cell_type": "code",
   "execution_count": null,
   "metadata": {},
   "outputs": [],
   "source": []
  }
 ],
 "metadata": {
  "kernelspec": {
   "display_name": "Python 3",
   "language": "python",
   "name": "python3"
  },
  "language_info": {
   "codemirror_mode": {
    "name": "ipython",
    "version": 3
   },
   "file_extension": ".py",
   "mimetype": "text/x-python",
   "name": "python",
   "nbconvert_exporter": "python",
   "pygments_lexer": "ipython3",
   "version": "3.6.4"
  }
 },
 "nbformat": 4,
 "nbformat_minor": 2
}
