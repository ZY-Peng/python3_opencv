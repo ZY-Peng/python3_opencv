{
 "cells": [
  {
   "cell_type": "code",
   "execution_count": 6,
   "metadata": {},
   "outputs": [],
   "source": [
    "#考虑每个的颜色 （Hue）和饱和度（Saturation）。根据这两个特征绘制 2D 直方图。 \n",
    "#OpenCV 中的 2D 直方图 \n",
    "import cv2\n",
    "import numpy as np\n",
    "img=cv2.imread('../images/6.jpg')\n",
    "hsv=cv2.cvtColor(img,cv2.COLOR_BGR2HSV)\n",
    "hist=cv2.calcHist([hsv],[0,1],None,[180,256],[0,180,0,256])"
   ]
  },
  {
   "cell_type": "code",
   "execution_count": null,
   "metadata": {},
   "outputs": [],
   "source": [
    "#numpy 中 2D 直方图 \n",
    "hist,xbins,ybins=np.histogram2d(h.ravel(),s.ravel(),[180,256].[[0,180],[0,256]])\n",
    "#第一个参数是 H 通道，第二个参数是 S 通道，第三个参数是 bins 的数 目，第四个参数是数值范围。 "
   ]
  },
  {
   "cell_type": "code",
   "execution_count": 7,
   "metadata": {},
   "outputs": [
    {
     "data": {
      "image/png": "[encoded data removed]",
      "text/plain": [
       "<Figure size 432x288 with 1 Axes>"
      ]
     },
     "metadata": {},
     "output_type": "display_data"
    }
   ],
   "source": [
    "import matplotlib.pyplot as plt\n",
    "plt.imshow(hist,interpolation='nearest')\n",
    "plt.show()"
   ]
  },
  {
   "cell_type": "code",
   "execution_count": 11,
   "metadata": {},
   "outputs": [],
   "source": [
    "# OpenCV 中的反向投影 \n",
    "import cv2\n",
    "import numpy as np\n",
    "roi=cv2.imread('../images/AMD.jpg')\n",
    "hsv=cv2.cvtColor(roi,cv2.COLOR_BGR2HSV)\n",
    "target=cv2.imread('../images/green2.jpg')\n",
    "hsvt=cv2.cvtColor(target,cv2.COLOR_BGR2HSV)"
   ]
  },
  {
   "cell_type": "code",
   "execution_count": 12,
   "metadata": {},
   "outputs": [
    {
     "data": {
      "text/plain": [
       "-1"
      ]
     },
     "execution_count": 12,
     "metadata": {},
     "output_type": "execute_result"
    }
   ],
   "source": [
    "#计算目标直方图\n",
    "roihist = cv2.calcHist([hsv],[0,1],None,[180,256],[0,180,0,256])\n",
    "#归一化，参数为原图像和输出图像，归一化后值全部在2到255范围\n",
    "cv2.normalize(roihist,roihist,0,255,cv2.NORM_MINMAX)\n",
    "dst = cv2.calcBackProject([hsvt],[0,1],roihist,[0,180,0,256],1)\n",
    "\n",
    "#卷积连接分散的点\n",
    "disc = cv2.getStructuringElement(cv2.MORPH_ELLIPSE,(5,5))\n",
    "dst = cv2.filter2D(dst,-1,disc)\n",
    "\n",
    "ret,thresh = cv2.threshold(dst,50,255,0)\n",
    "#使用merge变成通道图像\n",
    "thresh = cv2.merge((thresh,thresh,thresh))\n",
    "\n",
    "#蒙板\n",
    "res = cv2.bitwise_and(target,thresh)\n",
    "#矩阵按列合并,就是把target,thresh和res三个图片横着拼在一起\n",
    "res = np.hstack((target,thresh,res))\n",
    "\n",
    "cv2.imwrite('../images/res2.jpg',res)\n",
    "#显示图像\n",
    "cv2.imshow('1',res)\n",
    "cv2.waitKey(0)"
   ]
  },
  {
   "cell_type": "code",
   "execution_count": 13,
   "metadata": {},
   "outputs": [
    {
     "name": "stdout",
     "output_type": "stream",
     "text": [
      "(190, 454, 3)\n"
     ]
    }
   ],
   "source": [
    "print(roi.shape)"
   ]
  },
  {
   "cell_type": "code",
   "execution_count": 3,
   "metadata": {},
   "outputs": [
    {
     "name": "stdout",
     "output_type": "stream",
     "text": [
      "(300, 300, 3)\n"
     ]
    }
   ],
   "source": [
    "print(target.shape)"
   ]
  },
  {
   "cell_type": "code",
   "execution_count": 7,
   "metadata": {},
   "outputs": [
    {
     "data": {
      "text/plain": [
       "True"
      ]
     },
     "execution_count": 7,
     "metadata": {},
     "output_type": "execute_result"
    }
   ],
   "source": [
    "re=cv2.resize(target,(190,454),interpolation=cv2.INTER_CUBIC)\n",
    "cv2.imwrite('../images/green2.jpg',re)"
   ]
  },
  {
   "cell_type": "code",
   "execution_count": null,
   "metadata": {},
   "outputs": [],
   "source": [
    "#python+OpenCV 鼠标交互图片切割矩形区域"
   ]
  },
  {
   "cell_type": "code",
   "execution_count": 1,
   "metadata": {},
   "outputs": [],
   "source": [
    "import cv2\n",
    "\n",
    "global img\n",
    "global point1, point2\n",
    "def on_mouse(event, x, y, flags, param):\n",
    "    global img, point1, point2\n",
    "    img2 = img.copy()\n",
    "    if event == cv2.EVENT_LBUTTONDOWN:         #左键点击\n",
    "        point1 = (x,y)\n",
    "        cv2.circle(img2, point1, 10, (0,255,0), 5)\n",
    "        cv2.imshow('image', img2)\n",
    "    elif event == cv2.EVENT_MOUSEMOVE and (flags & cv2.EVENT_FLAG_LBUTTON):               #按住左键拖曳\n",
    "        cv2.rectangle(img2, point1, (x,y), (255,0,0), 5)\n",
    "        cv2.imshow('image', img2)\n",
    "    elif event == cv2.EVENT_LBUTTONUP:         #左键释放\n",
    "        point2 = (x,y)\n",
    "        cv2.rectangle(img2, point1, point2, (0,0,255), 5) \n",
    "        cv2.imshow('image', img2)\n",
    "        min_x = min(point1[0],point2[0])     \n",
    "        min_y = min(point1[1],point2[1])\n",
    "        width = abs(point1[0] - point2[0])\n",
    "        height = abs(point1[1] -point2[1])\n",
    "        cut_img = img[min_y:min_y+height, min_x:min_x+width]\n",
    "        cv2.imwrite('../images/lena.jpg', cut_img)\n",
    "\n",
    "def main():\n",
    "    global img\n",
    "    img=cv2.imread('../images/29.jpg')\n",
    "    cv2.namedWindow('image')\n",
    "    cv2.setMouseCallback('image', on_mouse)\n",
    "    cv2.imshow('image', img)\n",
    "    cv2.waitKey(0)\n",
    "\n",
    "if __name__ == '__main__':\n",
    "    main()\n",
    "\n"
   ]
  },
  {
   "cell_type": "code",
   "execution_count": null,
   "metadata": {},
   "outputs": [],
   "source": []
  }
 ],
 "metadata": {
  "kernelspec": {
   "display_name": "Python 3",
   "language": "python",
   "name": "python3"
  },
  "language_info": {
   "codemirror_mode": {
    "name": "ipython",
    "version": 3
   },
   "file_extension": ".py",
   "mimetype": "text/x-python",
   "name": "python",
   "nbconvert_exporter": "python",
   "pygments_lexer": "ipython3",
   "version": "3.6.4"
  }
 },
 "nbformat": 4,
 "nbformat_minor": 2
}
