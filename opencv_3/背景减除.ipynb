{
 "cells": [
  {
   "cell_type": "code",
   "execution_count": 2,
   "metadata": {},
   "outputs": [],
   "source": [
    "import cv2\n",
    "import numpy as np\n",
    "cap = cv2.VideoCapture('bg.avi')"
   ]
  },
  {
   "cell_type": "code",
   "execution_count": 8,
   "metadata": {
    "scrolled": false
   },
   "outputs": [],
   "source": [
    "# kernel = cv2.getStructuringElement(cv2.MORPH_ELLIPSE,(3,3))\n",
    "# #创建BackgroundSubtractorMOG2\n",
    "# fgbg = cv2.createBackgroundSubtractorMOG2()\n",
    "\n",
    "# while(1):\n",
    "#     ret, frame = cap.read()\n",
    "#     fgmask = fgbg.apply(frame)\n",
    "#     #形态学开运算去噪点\n",
    "#     fgmask = cv2.morphologyEx(fgmask, cv2.MORPH_OPEN, kernel)\n",
    "#     #寻找视频中的轮廓\n",
    "#     im, contours, hierarchy = cv2.findContours(fgmask, cv2.RETR_EXTERNAL, cv2.CHAIN_APPROX_SIMPLE)\n",
    "\n",
    "#     for c in contours:\n",
    "#         #计算各轮廓的周长\n",
    "#         perimeter = cv2.arcLength(c,True)\n",
    "#         if perimeter > 188:\n",
    "#             #找到一个直矩形（不会旋转）\n",
    "#             x,y,w,h = cv2.boundingRect(c)\n",
    "#             #画出这个矩形\n",
    "#             cv2.rectangle(frame,(x,y),(x+w,y+h),(0,255,0),2)    \n",
    "\n",
    "#     cv2.imshow('frame',frame)\n",
    "#     cv2.imshow('fgmask', fgmask)\n",
    "#     k = cv2.waitKey(30) & 0xff\n",
    "#     if k == 27:\n",
    "#         break\n",
    "\n",
    "# cap.release()\n",
    "# cv2.destroyAllWindows()"
   ]
  },
  {
   "cell_type": "code",
   "execution_count": null,
   "metadata": {},
   "outputs": [],
   "source": []
  },
  {
   "cell_type": "code",
   "execution_count": null,
   "metadata": {},
   "outputs": [],
   "source": []
  }
 ],
 "metadata": {
  "kernelspec": {
   "display_name": "Python 3",
   "language": "python",
   "name": "python3"
  },
  "language_info": {
   "codemirror_mode": {
    "name": "ipython",
    "version": 3
   },
   "file_extension": ".py",
   "mimetype": "text/x-python",
   "name": "python",
   "nbconvert_exporter": "python",
   "pygments_lexer": "ipython3",
   "version": "3.6.4"
  }
 },
 "nbformat": 4,
 "nbformat_minor": 2
}
